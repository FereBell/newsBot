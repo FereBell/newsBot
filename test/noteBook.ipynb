{
 "cells": [
  {
   "cell_type": "markdown",
   "metadata": {},
   "source": [
    "# Script to recolect news and send the info"
   ]
  },
  {
   "cell_type": "code",
   "execution_count": 16,
   "metadata": {},
   "outputs": [
    {
     "name": "stderr",
     "output_type": "stream",
     "text": [
      "[nltk_data] Downloading package punkt to\n",
      "[nltk_data]     /home/revientaelp/nltk_data...\n",
      "[nltk_data]   Package punkt is already up-to-date!\n"
     ]
    },
    {
     "data": {
      "text/plain": [
       "True"
      ]
     },
     "execution_count": 16,
     "metadata": {},
     "output_type": "execute_result"
    }
   ],
   "source": [
    "import re\n",
    "import spacy\n",
    "import nltk\n",
    "import openai\n",
    "import requests\n",
    "from typing import List\n",
    "from colorama import Fore\n",
    "from telegram import Update\n",
    "from datetime import datetime\n",
    "from bs4 import BeautifulSoup\n",
    "from htmldate import find_date\n",
    "from dataclasses import dataclass\n",
    "from transformers import pipeline\n",
    "from sumy.parsers.html import HtmlParser\n",
    "from sumy.nlp.tokenizers import Tokenizer\n",
    "from deep_translator import GoogleTranslator\n",
    "from sumy.summarizers.text_rank import TextRankSummarizer\n",
    "from telegram.ext import ApplicationBuilder, ContextTypes, CommandHandler, MessageHandler, filters\n",
    "\n",
    "\n",
    "#verifiying dependencies\n",
    "nltk.download('punkt')"
   ]
  },
  {
   "cell_type": "markdown",
   "metadata": {},
   "source": [
    "### Extracting the information of the web page"
   ]
  },
  {
   "cell_type": "code",
   "execution_count": 2,
   "metadata": {},
   "outputs": [],
   "source": [
    "\"\"\"\n",
    "Args: \n",
    "    html: html content with scratch information\n",
    "Returns:\n",
    "    Clean text\n",
    "\"\"\"\n",
    "def cleanHtml(html):\n",
    "    soup = BeautifulSoup(html, 'html.parser')\n",
    "    for script in soup([\"script\", \"style\", \"head\"]):\n",
    "        script.decompose()\n",
    "    text = soup.get_text()\n",
    "    text = re.sub('\\s+', ' ', text).strip()\n",
    "    return text\n",
    "\n",
    "def getWebContent(url):\n",
    "    try:\n",
    "        response = requests.get(url)\n",
    "        response.raise_for_status()\n",
    "        cleaned_content = cleanHtml(response.text)\n",
    "        return cleaned_content\n",
    "    except requests.exceptions.RequestException as e:\n",
    "        print(f\"Error fetching the webpage: {e}\")\n",
    "        return None"
   ]
  },
  {
   "cell_type": "code",
   "execution_count": 3,
   "metadata": {},
   "outputs": [],
   "source": [
    "\"\"\"\n",
    "Using a ML model to check the relation between the post and the\n",
    "news searching\n",
    "Args:\n",
    "    txt (str): clean post plain text\n",
    "    topic: tuple with the key words\n",
    "Returns:\n",
    "    a bool if the text is related \n",
    "\"\"\"\n",
    "def isRelated(text, topic):\n",
    "    nlp = spacy.load(\"en_core_web_sm\")\n",
    "    doc = nlp(text)\n",
    "    for i in topic:\n",
    "        val = i.lower() in [token.text.lower() for token in doc]\n",
    "        if val: return True\n",
    "    return False"
   ]
  },
  {
   "cell_type": "markdown",
   "metadata": {},
   "source": [
    "### Searching, extracting web pages links and summarization objects"
   ]
  },
  {
   "cell_type": "code",
   "execution_count": 4,
   "metadata": {},
   "outputs": [],
   "source": [
    "'''\n",
    "The web page object needs some special urls\n",
    "and we are using the useBase to simplify the \n",
    "searching\n",
    "'''\n",
    "\n",
    "@dataclass\n",
    "class webPage:\n",
    "    baseUrl: str\n",
    "    date: str\n",
    "    topicUrl: List[str]\n",
    "    keyWord: List[str]\n",
    "    useBase: bool = False\n",
    "\n",
    "    \"\"\"\n",
    "    Search links in a web page\n",
    "    Args:\n",
    "        url (string): link of the web page\n",
    "    Returns:\n",
    "        List of links\n",
    "    \"\"\"\n",
    "    def searchLinks(self, url):\n",
    "        allLinks = []\n",
    "        response = requests.get(url)\n",
    "        if response.status_code == 200:\n",
    "            soup = BeautifulSoup(response.text, \"html.parser\")\n",
    "            links = soup.find_all('a')\n",
    "            for link in links:\n",
    "                allLinks.append(link.get(\"href\"))\n",
    "        else:\n",
    "            print(Fore.RED + f\"Bad status code from: {url}\")\n",
    "        return allLinks\n",
    "\n",
    "    \"\"\"\n",
    "    Args:\n",
    "        url (string): link of the web page\n",
    "        currentDate: date to search the news\n",
    "    Returns:\n",
    "        List of input links\n",
    "    \"\"\"\n",
    "    def searchUrl(self, url, currentDate):\n",
    "        self.saveLinks = []\n",
    "        tmp = []\n",
    "        links = self.searchLinks(url)\n",
    "        for href in links:\n",
    "            if href and self.keyWord in href and href not in tmp:\n",
    "                fullUrl = self.baseUrl + href if self.useBase else href\n",
    "                if self.dateChecker(fullUrl) == currentDate:\n",
    "                    self.saveLinks.append(fullUrl)\n",
    "                tmp.append(href)\n",
    "\n",
    "    \"\"\"\n",
    "    Check the date of the publication\n",
    "    Args:\n",
    "        url: URL of the publicationq\n",
    "    Returns:\n",
    "        Date of the publication\n",
    "    \"\"\"\n",
    "    def dateChecker(self, url):\n",
    "        try:\n",
    "            response = requests.get(url)\n",
    "            date = find_date(response.content.decode('utf-8'))\n",
    "            return date\n",
    "        except Exception as e:\n",
    "            pass\n",
    "\n",
    "    \"\"\"\n",
    "    Save all the links in a set\n",
    "    Args:\n",
    "        url: URL of the publicationq\n",
    "    Returns:\n",
    "        All the links founded\n",
    "    \"\"\"\n",
    "    def obtainAllLinks(self):\n",
    "        self.allLinks = set()\n",
    "        for j in self.topicUrl:\n",
    "            self.searchUrl(j, self.date)\n",
    "            for i in self.saveLinks:\n",
    "                self.allLinks.add(i)"
   ]
  },
  {
   "cell_type": "code",
   "execution_count": 5,
   "metadata": {},
   "outputs": [],
   "source": [
    "\"\"\"\n",
    "Model used to summarize the text with a Bart model\n",
    "this approach is used when the resume is not enough good\n",
    "using extracting summarization\n",
    "\"\"\"\n",
    "class sumObj():\n",
    "    def __init__(self):\n",
    "        self.summarizer = pipeline(\"summarization\", model = \"facebook/bart-large-cnn\")\n",
    "    \n",
    "    def summarize(self, input):\n",
    "        return self.summarizer(input, max_length=700, min_length=200, do_sample=False)[0]['summary_text']\n",
    "    \n",
    "#article = sumObj()"
   ]
  },
  {
   "cell_type": "markdown",
   "metadata": {},
   "source": [
    "### Applying the searching and summarization"
   ]
  },
  {
   "cell_type": "code",
   "execution_count": 6,
   "metadata": {},
   "outputs": [],
   "source": [
    "\"\"\"Translator could be another one, for example deepl needs to make a payment\"\"\"\n",
    "translator = GoogleTranslator(source='en', target='es')"
   ]
  },
  {
   "cell_type": "code",
   "execution_count": 7,
   "metadata": {},
   "outputs": [],
   "source": [
    "dateIn = datetime.now().strftime(\"%Y-%m-%d\")\n",
    "\n",
    "mitPage = webPage(\"https://news.mit.edu\",\n",
    "                  dateIn,\n",
    "                  [\"https://news.mit.edu/topic/artificial-intelligence2\",\n",
    "                   \"https://news.mit.edu/topic/computers\",\n",
    "                   \"https://news.mit.edu/topic/computer-vision\"], \n",
    "                   \"2023\",\n",
    "                   True)\n",
    "guardPage = webPage(\"https://www.theguardian.com/\",\n",
    "                    dateIn,\n",
    "                    [\"https://www.theguardian.com/technology/artificialintelligenceai\"],\n",
    "                    \"2023\")\n",
    "bbcPage = webPage(\"https://www.bbc.com\",\n",
    "                  dateIn,\n",
    "                  [\"https://www.bbc.com/mundo/topics/cwr9j26ddr5t?page=1\"],\n",
    "                  \"articles\")\n",
    "wiredPage = webPage(\"https://www.wired.com\",\n",
    "                    dateIn,\n",
    "                    [\"https://www.wired.com/tag/artificial-intelligence/\"],\n",
    "                    \"story\",\n",
    "                    True)\n",
    "naturePage = webPage(\"https://www.nature.com/\",\n",
    "                     dateIn,\n",
    "                    [\"https://www.nature.com/\"],\n",
    "                    \"articles\",\n",
    "                    True)"
   ]
  },
  {
   "cell_type": "code",
   "execution_count": 8,
   "metadata": {},
   "outputs": [],
   "source": [
    "mitPage.obtainAllLinks()\n",
    "guardPage.obtainAllLinks()\n",
    "bbcPage.obtainAllLinks()\n",
    "wiredPage.obtainAllLinks()\n",
    "naturePage.obtainAllLinks()"
   ]
  },
  {
   "cell_type": "code",
   "execution_count": 9,
   "metadata": {},
   "outputs": [],
   "source": [
    "listPages = (mitPage, guardPage, bbcPage, wiredPage, naturePage)"
   ]
  },
  {
   "cell_type": "code",
   "execution_count": 10,
   "metadata": {},
   "outputs": [
    {
     "name": "stdout",
     "output_type": "stream",
     "text": [
      "[]\n",
      "['https://www.theguardian.com/technology/2023/dec/28/how-one-of-the-worlds-oldest-newspapers-is-using-ai-to-reinvent-journalism', 'https://www.theguardian.com/media/2023/dec/27/new-york-times-openai-microsoft-lawsuit']\n",
      "[]\n",
      "['https://www.wired.com/story/generative-ai-web-2-mistakes/']\n",
      "[]\n"
     ]
    }
   ],
   "source": [
    "print(mitPage.saveLinks)\n",
    "print(guardPage.saveLinks)\n",
    "print(bbcPage.saveLinks)\n",
    "print(wiredPage.saveLinks)\n",
    "print(naturePage.saveLinks)"
   ]
  },
  {
   "cell_type": "code",
   "execution_count": 11,
   "metadata": {},
   "outputs": [],
   "source": [
    "\n",
    "def extSum(link, length = 22):\n",
    "    text = \"\"\n",
    "    parser = HtmlParser.from_url(link, Tokenizer('english'))\n",
    "    summarizer = TextRankSummarizer()\n",
    "    for sentences in summarizer(parser.document, length):\n",
    "        text = text + str(sentences) + \"\\n\"\n",
    "    return text"
   ]
  },
  {
   "cell_type": "code",
   "execution_count": 17,
   "metadata": {},
   "outputs": [],
   "source": [
    "def resumeInfo():\n",
    "    topicRelated = (\"Artificial intelligence\", \"Deep learning\", \"Gan\", \"Gans\", \"Machine learning\",\n",
    "                    \"LLM\", \"AI\", \"Generative adversial neuronal network\", \"Neuronal network\",\n",
    "                    \"Convolutional neuronal network\", \"OpenIA\", \"Large lengual model\", \"Computer Vision\",\n",
    "                    \"Computer Science\")\n",
    "    resume = []\n",
    "    for page in listPages:\n",
    "        try:\n",
    "            print(Fore.BLUE + f'Revieweing page: {page.baseUrl}')\n",
    "            for link in page.saveLinks:\n",
    "                if isRelated(getWebContent(link), topicRelated):\n",
    "                    print(Fore.BLUE + f\"Link: {link}\")\n",
    "                    #outputOrg = article.summarize(getWebContent(link)[:4500])\n",
    "                    outputOrg = extSum(link)\n",
    "                    outputEsp = translator.translate(outputOrg)\n",
    "                    resume.append(outputEsp)\n",
    "        except Exception as e:\n",
    "            print(Fore.RED + f\"Error at: {e}\")\n",
    "    return resume"
   ]
  },
  {
   "cell_type": "code",
   "execution_count": 11,
   "metadata": {},
   "outputs": [],
   "source": [
    "'''\n",
    "Section to translate the information\n",
    "Args:\n",
    "    article txt\n",
    "'''\n",
    "for i in mitPage.saveLinks:\n",
    "    if isRelated(getWebContent(mitPage.saveLinks[0]), topicRelated):\n",
    "        outputOrg = article.summarize(getWebContent(mitPage.saveLinks[0])[:4500])\n",
    "        outputEsp = translator.translate(outputOrg)\n",
    "    print(outputEsp)\n",
    "    print('--------------')"
   ]
  },
  {
   "cell_type": "code",
   "execution_count": 18,
   "metadata": {},
   "outputs": [],
   "source": [
    "async def ChatQuestion(update: Update, context: ContextTypes.DEFAULT_TYPE):\n",
    "    resume = resumeInfo()\n",
    "    for i in resume:\n",
    "        await context.bot.send_message(chat_id=update.effective_chat.id, text= i)\n",
    "\n",
    "async def start(update: Update, context: ContextTypes.DEFAULT_TYPE):\n",
    "    startString = 'Hola soy tu bot encargado de enviarte \\n \\\n",
    "                   las noticias mas importantes sobre IA'\n",
    "    await context.bot.send_message(chat_id  = update.effective_chat.id, text = startString)\n",
    "\n",
    "def main():\n",
    "    application = ApplicationBuilder().token('6890506436:AAFD-tjp93gLwZlIDaEnHqD8qSXVfFRLrvQ').build()\n",
    "    application.add_handler(CommandHandler('start', start))\n",
    "    application.add_handler(MessageHandler(filters.TEXT, ChatQuestion))\n",
    "\n",
    "    application.run_polling()\n"
   ]
  },
  {
   "cell_type": "code",
   "execution_count": 20,
   "metadata": {},
   "outputs": [
    {
     "ename": "RuntimeError",
     "evalue": "Cannot close a running event loop",
     "output_type": "error",
     "traceback": [
      "\u001b[0;31m---------------------------------------------------------------------------\u001b[0m",
      "\u001b[0;31mRuntimeError\u001b[0m                              Traceback (most recent call last)",
      "File \u001b[0;32m~/miniconda3/envs/news310/lib/python3.10/site-packages/telegram/ext/_application.py:1006\u001b[0m, in \u001b[0;36mApplication.__run\u001b[0;34m(self, updater_coroutine, stop_signals, close_loop)\u001b[0m\n\u001b[1;32m   1005\u001b[0m     updater_coroutine\u001b[38;5;241m.\u001b[39mclose()\n\u001b[0;32m-> 1006\u001b[0m     \u001b[38;5;28;01mraise\u001b[39;00m exc\n\u001b[1;32m   1007\u001b[0m \u001b[38;5;28;01mfinally\u001b[39;00m:\n\u001b[1;32m   1008\u001b[0m     \u001b[38;5;66;03m# We arrive here either by catching the exceptions above or if the loop gets stopped\u001b[39;00m\n",
      "File \u001b[0;32m~/miniconda3/envs/news310/lib/python3.10/site-packages/telegram/ext/_application.py:995\u001b[0m, in \u001b[0;36mApplication.__run\u001b[0;34m(self, updater_coroutine, stop_signals, close_loop)\u001b[0m\n\u001b[1;32m    994\u001b[0m \u001b[38;5;28;01mtry\u001b[39;00m:\n\u001b[0;32m--> 995\u001b[0m     \u001b[43mloop\u001b[49m\u001b[38;5;241;43m.\u001b[39;49m\u001b[43mrun_until_complete\u001b[49m\u001b[43m(\u001b[49m\u001b[38;5;28;43mself\u001b[39;49m\u001b[38;5;241;43m.\u001b[39;49m\u001b[43minitialize\u001b[49m\u001b[43m(\u001b[49m\u001b[43m)\u001b[49m\u001b[43m)\u001b[49m\n\u001b[1;32m    996\u001b[0m     \u001b[38;5;28;01mif\u001b[39;00m \u001b[38;5;28mself\u001b[39m\u001b[38;5;241m.\u001b[39mpost_init:\n",
      "File \u001b[0;32m~/miniconda3/envs/news310/lib/python3.10/asyncio/base_events.py:617\u001b[0m, in \u001b[0;36mBaseEventLoop.run_until_complete\u001b[0;34m(self, future)\u001b[0m\n\u001b[1;32m    616\u001b[0m \u001b[38;5;28mself\u001b[39m\u001b[38;5;241m.\u001b[39m_check_closed()\n\u001b[0;32m--> 617\u001b[0m \u001b[38;5;28;43mself\u001b[39;49m\u001b[38;5;241;43m.\u001b[39;49m\u001b[43m_check_running\u001b[49m\u001b[43m(\u001b[49m\u001b[43m)\u001b[49m\n\u001b[1;32m    619\u001b[0m new_task \u001b[38;5;241m=\u001b[39m \u001b[38;5;129;01mnot\u001b[39;00m futures\u001b[38;5;241m.\u001b[39misfuture(future)\n",
      "File \u001b[0;32m~/miniconda3/envs/news310/lib/python3.10/asyncio/base_events.py:577\u001b[0m, in \u001b[0;36mBaseEventLoop._check_running\u001b[0;34m(self)\u001b[0m\n\u001b[1;32m    576\u001b[0m \u001b[38;5;28;01mif\u001b[39;00m \u001b[38;5;28mself\u001b[39m\u001b[38;5;241m.\u001b[39mis_running():\n\u001b[0;32m--> 577\u001b[0m     \u001b[38;5;28;01mraise\u001b[39;00m \u001b[38;5;167;01mRuntimeError\u001b[39;00m(\u001b[38;5;124m'\u001b[39m\u001b[38;5;124mThis event loop is already running\u001b[39m\u001b[38;5;124m'\u001b[39m)\n\u001b[1;32m    578\u001b[0m \u001b[38;5;28;01mif\u001b[39;00m events\u001b[38;5;241m.\u001b[39m_get_running_loop() \u001b[38;5;129;01mis\u001b[39;00m \u001b[38;5;129;01mnot\u001b[39;00m \u001b[38;5;28;01mNone\u001b[39;00m:\n",
      "\u001b[0;31mRuntimeError\u001b[0m: This event loop is already running",
      "\nDuring handling of the above exception, another exception occurred:\n",
      "\u001b[0;31mRuntimeError\u001b[0m                              Traceback (most recent call last)",
      "File \u001b[0;32m~/miniconda3/envs/news310/lib/python3.10/site-packages/telegram/ext/_application.py:1017\u001b[0m, in \u001b[0;36mApplication.__run\u001b[0;34m(self, updater_coroutine, stop_signals, close_loop)\u001b[0m\n\u001b[1;32m   1016\u001b[0m     loop\u001b[38;5;241m.\u001b[39mrun_until_complete(\u001b[38;5;28mself\u001b[39m\u001b[38;5;241m.\u001b[39mpost_stop(\u001b[38;5;28mself\u001b[39m))\n\u001b[0;32m-> 1017\u001b[0m \u001b[43mloop\u001b[49m\u001b[38;5;241;43m.\u001b[39;49m\u001b[43mrun_until_complete\u001b[49m\u001b[43m(\u001b[49m\u001b[38;5;28;43mself\u001b[39;49m\u001b[38;5;241;43m.\u001b[39;49m\u001b[43mshutdown\u001b[49m\u001b[43m(\u001b[49m\u001b[43m)\u001b[49m\u001b[43m)\u001b[49m\n\u001b[1;32m   1018\u001b[0m \u001b[38;5;28;01mif\u001b[39;00m \u001b[38;5;28mself\u001b[39m\u001b[38;5;241m.\u001b[39mpost_shutdown:\n",
      "File \u001b[0;32m~/miniconda3/envs/news310/lib/python3.10/asyncio/base_events.py:617\u001b[0m, in \u001b[0;36mBaseEventLoop.run_until_complete\u001b[0;34m(self, future)\u001b[0m\n\u001b[1;32m    616\u001b[0m \u001b[38;5;28mself\u001b[39m\u001b[38;5;241m.\u001b[39m_check_closed()\n\u001b[0;32m--> 617\u001b[0m \u001b[38;5;28;43mself\u001b[39;49m\u001b[38;5;241;43m.\u001b[39;49m\u001b[43m_check_running\u001b[49m\u001b[43m(\u001b[49m\u001b[43m)\u001b[49m\n\u001b[1;32m    619\u001b[0m new_task \u001b[38;5;241m=\u001b[39m \u001b[38;5;129;01mnot\u001b[39;00m futures\u001b[38;5;241m.\u001b[39misfuture(future)\n",
      "File \u001b[0;32m~/miniconda3/envs/news310/lib/python3.10/asyncio/base_events.py:577\u001b[0m, in \u001b[0;36mBaseEventLoop._check_running\u001b[0;34m(self)\u001b[0m\n\u001b[1;32m    576\u001b[0m \u001b[38;5;28;01mif\u001b[39;00m \u001b[38;5;28mself\u001b[39m\u001b[38;5;241m.\u001b[39mis_running():\n\u001b[0;32m--> 577\u001b[0m     \u001b[38;5;28;01mraise\u001b[39;00m \u001b[38;5;167;01mRuntimeError\u001b[39;00m(\u001b[38;5;124m'\u001b[39m\u001b[38;5;124mThis event loop is already running\u001b[39m\u001b[38;5;124m'\u001b[39m)\n\u001b[1;32m    578\u001b[0m \u001b[38;5;28;01mif\u001b[39;00m events\u001b[38;5;241m.\u001b[39m_get_running_loop() \u001b[38;5;129;01mis\u001b[39;00m \u001b[38;5;129;01mnot\u001b[39;00m \u001b[38;5;28;01mNone\u001b[39;00m:\n",
      "\u001b[0;31mRuntimeError\u001b[0m: This event loop is already running",
      "\nDuring handling of the above exception, another exception occurred:\n",
      "\u001b[0;31mRuntimeError\u001b[0m                              Traceback (most recent call last)",
      "Cell \u001b[0;32mIn[20], line 1\u001b[0m\n\u001b[0;32m----> 1\u001b[0m \u001b[43mmain\u001b[49m\u001b[43m(\u001b[49m\u001b[43m)\u001b[49m\n",
      "Cell \u001b[0;32mIn[18], line 16\u001b[0m, in \u001b[0;36mmain\u001b[0;34m()\u001b[0m\n\u001b[1;32m     13\u001b[0m application\u001b[38;5;241m.\u001b[39madd_handler(CommandHandler(\u001b[38;5;124m'\u001b[39m\u001b[38;5;124mstart\u001b[39m\u001b[38;5;124m'\u001b[39m, start))\n\u001b[1;32m     14\u001b[0m application\u001b[38;5;241m.\u001b[39madd_handler(MessageHandler(filters\u001b[38;5;241m.\u001b[39mTEXT, ChatQuestion))\n\u001b[0;32m---> 16\u001b[0m \u001b[43mapplication\u001b[49m\u001b[38;5;241;43m.\u001b[39;49m\u001b[43mrun_polling\u001b[49m\u001b[43m(\u001b[49m\u001b[43m)\u001b[49m\n",
      "File \u001b[0;32m~/miniconda3/envs/news310/lib/python3.10/site-packages/telegram/ext/_application.py:818\u001b[0m, in \u001b[0;36mApplication.run_polling\u001b[0;34m(self, poll_interval, timeout, bootstrap_retries, read_timeout, write_timeout, connect_timeout, pool_timeout, allowed_updates, drop_pending_updates, close_loop, stop_signals)\u001b[0m\n\u001b[1;32m    815\u001b[0m \u001b[38;5;28;01mdef\u001b[39;00m \u001b[38;5;21merror_callback\u001b[39m(exc: TelegramError) \u001b[38;5;241m-\u001b[39m\u001b[38;5;241m>\u001b[39m \u001b[38;5;28;01mNone\u001b[39;00m:\n\u001b[1;32m    816\u001b[0m     \u001b[38;5;28mself\u001b[39m\u001b[38;5;241m.\u001b[39mcreate_task(\u001b[38;5;28mself\u001b[39m\u001b[38;5;241m.\u001b[39mprocess_error(error\u001b[38;5;241m=\u001b[39mexc, update\u001b[38;5;241m=\u001b[39m\u001b[38;5;28;01mNone\u001b[39;00m))\n\u001b[0;32m--> 818\u001b[0m \u001b[38;5;28;01mreturn\u001b[39;00m \u001b[38;5;28;43mself\u001b[39;49m\u001b[38;5;241;43m.\u001b[39;49m\u001b[43m__run\u001b[49m\u001b[43m(\u001b[49m\n\u001b[1;32m    819\u001b[0m \u001b[43m    \u001b[49m\u001b[43mupdater_coroutine\u001b[49m\u001b[38;5;241;43m=\u001b[39;49m\u001b[38;5;28;43mself\u001b[39;49m\u001b[38;5;241;43m.\u001b[39;49m\u001b[43mupdater\u001b[49m\u001b[38;5;241;43m.\u001b[39;49m\u001b[43mstart_polling\u001b[49m\u001b[43m(\u001b[49m\n\u001b[1;32m    820\u001b[0m \u001b[43m        \u001b[49m\u001b[43mpoll_interval\u001b[49m\u001b[38;5;241;43m=\u001b[39;49m\u001b[43mpoll_interval\u001b[49m\u001b[43m,\u001b[49m\n\u001b[1;32m    821\u001b[0m \u001b[43m        \u001b[49m\u001b[43mtimeout\u001b[49m\u001b[38;5;241;43m=\u001b[39;49m\u001b[43mtimeout\u001b[49m\u001b[43m,\u001b[49m\n\u001b[1;32m    822\u001b[0m \u001b[43m        \u001b[49m\u001b[43mbootstrap_retries\u001b[49m\u001b[38;5;241;43m=\u001b[39;49m\u001b[43mbootstrap_retries\u001b[49m\u001b[43m,\u001b[49m\n\u001b[1;32m    823\u001b[0m \u001b[43m        \u001b[49m\u001b[43mread_timeout\u001b[49m\u001b[38;5;241;43m=\u001b[39;49m\u001b[43mread_timeout\u001b[49m\u001b[43m,\u001b[49m\n\u001b[1;32m    824\u001b[0m \u001b[43m        \u001b[49m\u001b[43mwrite_timeout\u001b[49m\u001b[38;5;241;43m=\u001b[39;49m\u001b[43mwrite_timeout\u001b[49m\u001b[43m,\u001b[49m\n\u001b[1;32m    825\u001b[0m \u001b[43m        \u001b[49m\u001b[43mconnect_timeout\u001b[49m\u001b[38;5;241;43m=\u001b[39;49m\u001b[43mconnect_timeout\u001b[49m\u001b[43m,\u001b[49m\n\u001b[1;32m    826\u001b[0m \u001b[43m        \u001b[49m\u001b[43mpool_timeout\u001b[49m\u001b[38;5;241;43m=\u001b[39;49m\u001b[43mpool_timeout\u001b[49m\u001b[43m,\u001b[49m\n\u001b[1;32m    827\u001b[0m \u001b[43m        \u001b[49m\u001b[43mallowed_updates\u001b[49m\u001b[38;5;241;43m=\u001b[39;49m\u001b[43mallowed_updates\u001b[49m\u001b[43m,\u001b[49m\n\u001b[1;32m    828\u001b[0m \u001b[43m        \u001b[49m\u001b[43mdrop_pending_updates\u001b[49m\u001b[38;5;241;43m=\u001b[39;49m\u001b[43mdrop_pending_updates\u001b[49m\u001b[43m,\u001b[49m\n\u001b[1;32m    829\u001b[0m \u001b[43m        \u001b[49m\u001b[43merror_callback\u001b[49m\u001b[38;5;241;43m=\u001b[39;49m\u001b[43merror_callback\u001b[49m\u001b[43m,\u001b[49m\u001b[43m  \u001b[49m\u001b[38;5;66;43;03m# if there is an error in fetching updates\u001b[39;49;00m\n\u001b[1;32m    830\u001b[0m \u001b[43m    \u001b[49m\u001b[43m)\u001b[49m\u001b[43m,\u001b[49m\n\u001b[1;32m    831\u001b[0m \u001b[43m    \u001b[49m\u001b[43mclose_loop\u001b[49m\u001b[38;5;241;43m=\u001b[39;49m\u001b[43mclose_loop\u001b[49m\u001b[43m,\u001b[49m\n\u001b[1;32m    832\u001b[0m \u001b[43m    \u001b[49m\u001b[43mstop_signals\u001b[49m\u001b[38;5;241;43m=\u001b[39;49m\u001b[43mstop_signals\u001b[49m\u001b[43m,\u001b[49m\n\u001b[1;32m    833\u001b[0m \u001b[43m\u001b[49m\u001b[43m)\u001b[49m\n",
      "File \u001b[0;32m~/miniconda3/envs/news310/lib/python3.10/site-packages/telegram/ext/_application.py:1022\u001b[0m, in \u001b[0;36mApplication.__run\u001b[0;34m(self, updater_coroutine, stop_signals, close_loop)\u001b[0m\n\u001b[1;32m   1020\u001b[0m \u001b[38;5;28;01mfinally\u001b[39;00m:\n\u001b[1;32m   1021\u001b[0m     \u001b[38;5;28;01mif\u001b[39;00m close_loop:\n\u001b[0;32m-> 1022\u001b[0m         \u001b[43mloop\u001b[49m\u001b[38;5;241;43m.\u001b[39;49m\u001b[43mclose\u001b[49m\u001b[43m(\u001b[49m\u001b[43m)\u001b[49m\n",
      "File \u001b[0;32m~/miniconda3/envs/news310/lib/python3.10/asyncio/unix_events.py:68\u001b[0m, in \u001b[0;36m_UnixSelectorEventLoop.close\u001b[0;34m(self)\u001b[0m\n\u001b[1;32m     67\u001b[0m \u001b[38;5;28;01mdef\u001b[39;00m \u001b[38;5;21mclose\u001b[39m(\u001b[38;5;28mself\u001b[39m):\n\u001b[0;32m---> 68\u001b[0m     \u001b[38;5;28;43msuper\u001b[39;49m\u001b[43m(\u001b[49m\u001b[43m)\u001b[49m\u001b[38;5;241;43m.\u001b[39;49m\u001b[43mclose\u001b[49m\u001b[43m(\u001b[49m\u001b[43m)\u001b[49m\n\u001b[1;32m     69\u001b[0m     \u001b[38;5;28;01mif\u001b[39;00m \u001b[38;5;129;01mnot\u001b[39;00m sys\u001b[38;5;241m.\u001b[39mis_finalizing():\n\u001b[1;32m     70\u001b[0m         \u001b[38;5;28;01mfor\u001b[39;00m sig \u001b[38;5;129;01min\u001b[39;00m \u001b[38;5;28mlist\u001b[39m(\u001b[38;5;28mself\u001b[39m\u001b[38;5;241m.\u001b[39m_signal_handlers):\n",
      "File \u001b[0;32m~/miniconda3/envs/news310/lib/python3.10/asyncio/selector_events.py:89\u001b[0m, in \u001b[0;36mBaseSelectorEventLoop.close\u001b[0;34m(self)\u001b[0m\n\u001b[1;32m     87\u001b[0m \u001b[38;5;28;01mdef\u001b[39;00m \u001b[38;5;21mclose\u001b[39m(\u001b[38;5;28mself\u001b[39m):\n\u001b[1;32m     88\u001b[0m     \u001b[38;5;28;01mif\u001b[39;00m \u001b[38;5;28mself\u001b[39m\u001b[38;5;241m.\u001b[39mis_running():\n\u001b[0;32m---> 89\u001b[0m         \u001b[38;5;28;01mraise\u001b[39;00m \u001b[38;5;167;01mRuntimeError\u001b[39;00m(\u001b[38;5;124m\"\u001b[39m\u001b[38;5;124mCannot close a running event loop\u001b[39m\u001b[38;5;124m\"\u001b[39m)\n\u001b[1;32m     90\u001b[0m     \u001b[38;5;28;01mif\u001b[39;00m \u001b[38;5;28mself\u001b[39m\u001b[38;5;241m.\u001b[39mis_closed():\n\u001b[1;32m     91\u001b[0m         \u001b[38;5;28;01mreturn\u001b[39;00m\n",
      "\u001b[0;31mRuntimeError\u001b[0m: Cannot close a running event loop"
     ]
    }
   ],
   "source": [
    "main()"
   ]
  },
  {
   "cell_type": "code",
   "execution_count": null,
   "metadata": {},
   "outputs": [],
   "source": []
  }
 ],
 "metadata": {
  "kernelspec": {
   "display_name": "Python 3 (ipykernel)",
   "language": "python",
   "name": "python3"
  },
  "language_info": {
   "codemirror_mode": {
    "name": "ipython",
    "version": 3
   },
   "file_extension": ".py",
   "mimetype": "text/x-python",
   "name": "python",
   "nbconvert_exporter": "python",
   "pygments_lexer": "ipython3",
   "version": "3.10.0"
  }
 },
 "nbformat": 4,
 "nbformat_minor": 2
}
